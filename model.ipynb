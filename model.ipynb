{
 "cells": [
  {
   "cell_type": "code",
   "outputs": [],
   "source": [
    "from model import BatteryModel\n",
    "\n",
    "model = BatteryModel()\n",
    "stocks = model.get_stocks()\n",
    "from BPTK_Py import sd_functions as sd"
   ],
   "metadata": {
    "collapsed": false
   },
   "id": "90134cc49a1ab78d",
   "execution_count": null
  },
  {
   "cell_type": "code",
   "outputs": [],
   "source": [
    "stocks['resources'].plot()"
   ],
   "metadata": {
    "collapsed": false
   },
   "id": "b53aac79a2a6d18f",
   "execution_count": null
  },
  {
   "cell_type": "code",
   "outputs": [],
   "source": [
    "stocks['stocks'].plot()"
   ],
   "metadata": {
    "collapsed": false
   },
   "id": "60757213d9f8174f",
   "execution_count": null
  },
  {
   "cell_type": "code",
   "outputs": [],
   "source": [
    "stocks['batteries'].plot()"
   ],
   "metadata": {
    "collapsed": false
   },
   "id": "f13249e55ecdc05d",
   "execution_count": null
  },
  {
   "cell_type": "code",
   "outputs": [],
   "source": [
    "stocks['waste'].plot()"
   ],
   "metadata": {
    "collapsed": false
   },
   "id": "9ee6cae8ebb8d2ca",
   "execution_count": null
  },
  {
   "cell_type": "code",
   "outputs": [],
   "source": [],
   "metadata": {
    "collapsed": false
   },
   "id": "39192611ca63b3ce",
   "execution_count": null
  }
 ],
 "metadata": {
  "kernelspec": {
   "display_name": "Python 3",
   "language": "python",
   "name": "python3"
  },
  "language_info": {
   "codemirror_mode": {
    "name": "ipython",
    "version": 2
   },
   "file_extension": ".py",
   "mimetype": "text/x-python",
   "name": "python",
   "nbconvert_exporter": "python",
   "pygments_lexer": "ipython2",
   "version": "2.7.6"
  }
 },
 "nbformat": 4,
 "nbformat_minor": 5
}
