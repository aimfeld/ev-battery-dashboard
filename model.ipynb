{
 "cells": [
  {
   "cell_type": "code",
   "outputs": [],
   "source": [
    "%load_ext autoreload\n",
    "%autoreload 2\n",
    "\n",
    "from model import BatteryModel\n",
    "from BPTK_Py import sd_functions as sd"
   ],
   "metadata": {
    "collapsed": false
   },
   "id": "90134cc49a1ab78d",
   "execution_count": null
  },
  {
   "cell_type": "code",
   "outputs": [],
   "source": [
    "model = BatteryModel()\n",
    "df_stocks = model.get_stocks_df()\n",
    "df_stocks"
   ],
   "metadata": {
    "collapsed": false
   },
   "id": "6ddf0acad7de33c7",
   "execution_count": null
  },
  {
   "cell_type": "code",
   "outputs": [],
   "source": [
    "df_stocks.plot();"
   ],
   "metadata": {
    "collapsed": false
   },
   "id": "d8b11afc84a1aa52",
   "execution_count": null
  }
 ],
 "metadata": {
  "kernelspec": {
   "display_name": "Python 3",
   "language": "python",
   "name": "python3"
  },
  "language_info": {
   "codemirror_mode": {
    "name": "ipython",
    "version": 2
   },
   "file_extension": ".py",
   "mimetype": "text/x-python",
   "name": "python",
   "nbconvert_exporter": "python",
   "pygments_lexer": "ipython2",
   "version": "2.7.6"
  }
 },
 "nbformat": 4,
 "nbformat_minor": 5
}
